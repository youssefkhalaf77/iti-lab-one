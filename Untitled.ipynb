{
  "nbformat": 4,
  "nbformat_minor": 0,
  "metadata": {
    "colab": {
      "provenance": [],
      "authorship_tag": "ABX9TyP9e4WV6C7DtlOtPcicoatS",
      "include_colab_link": true
    },
    "kernelspec": {
      "name": "python3",
      "display_name": "Python 3"
    },
    "language_info": {
      "name": "python"
    }
  },
  "cells": [
    {
      "cell_type": "markdown",
      "metadata": {
        "id": "view-in-github",
        "colab_type": "text"
      },
      "source": [
        "<a href=\"https://colab.research.google.com/github/youssefkhalaf77/iti-lab-one/blob/main/Untitled.ipynb\" target=\"_parent\"><img src=\"https://colab.research.google.com/assets/colab-badge.svg\" alt=\"Open In Colab\"/></a>"
      ]
    },
    {
      "cell_type": "code",
      "execution_count": 1,
      "metadata": {
        "colab": {
          "base_uri": "https://localhost:8080/"
        },
        "id": "KFVBt3TiJiN-",
        "outputId": "141ebdae-e931-4f20-dcb5-10049e63fb83"
      },
      "outputs": [
        {
          "output_type": "stream",
          "name": "stdout",
          "text": [
            "Manual mean: 20.5\n",
            "NumPy mean: 20.5\n"
          ]
        }
      ],
      "source": [
        "import numpy as np\n",
        "ages = [18, 21, 20, 19, 22, 23, 20, 21, 22, 19]\n",
        "manual_mean = sum(ages) / len(ages)\n",
        "numpy_mean = np.mean(ages)\n",
        "print(\"Manual mean:\", manual_mean)\n",
        "print(\"NumPy mean:\", numpy_mean)"
      ]
    },
    {
      "cell_type": "code",
      "source": [
        "import random\n",
        "nums = [random.randint(10, 50) for _ in range(15)]\n",
        "sorted_nums = sorted(nums)\n",
        "n = len(sorted_nums)\n",
        "if n % 2 == 1:\n",
        "    manual_median = sorted_nums[n // 2]\n",
        "else:\n",
        "    manual_median = (sorted_nums[n // 2 - 1] + sorted_nums[n // 2]) / 2\n",
        "numpy_median = np.median(nums)\n",
        "print(\"Numbers:\", nums)\n",
        "print(\"Manual median:\", manual_median)\n",
        "print(\"NumPy median:\", numpy_median)\n"
      ],
      "metadata": {
        "colab": {
          "base_uri": "https://localhost:8080/"
        },
        "id": "pdfSvZAzKdAJ",
        "outputId": "a04eb294-62cd-4138-d27a-2832d703da08"
      },
      "execution_count": 6,
      "outputs": [
        {
          "output_type": "stream",
          "name": "stdout",
          "text": [
            "Numbers: [13, 23, 21, 33, 17, 39, 16, 27, 22, 14, 44, 49, 46, 23, 27]\n",
            "Manual median: 23\n",
            "NumPy median: 23.0\n"
          ]
        }
      ]
    },
    {
      "cell_type": "code",
      "source": [
        "manual_min = min(nums)\n",
        "manual_max = max(nums)\n",
        "manual_range = manual_max - manual_min\n",
        "numpy_min = np.min(nums)\n",
        "numpy_max = np.max(nums)\n",
        "numpy_range = np.ptp(nums)\n",
        "print(\"Manual min:\", manual_min, \"max:\", manual_max, \"range:\", manual_range)\n",
        "print(\"NumPy min:\", numpy_min, \"max:\", numpy_max, \"range:\", numpy_range)"
      ],
      "metadata": {
        "colab": {
          "base_uri": "https://localhost:8080/"
        },
        "id": "A1i2r4jsK2Dr",
        "outputId": "8afe4df8-eec8-46ea-c4da-f605c7e6b6c7"
      },
      "execution_count": 10,
      "outputs": [
        {
          "output_type": "stream",
          "name": "stdout",
          "text": [
            "Manual min: 13 max: 49 range: 36\n",
            "NumPy min: 13 max: 49 range: 36\n"
          ]
        }
      ]
    },
    {
      "cell_type": "code",
      "source": [
        "data = [5, 7, 3, 7, 9, 10, 15, 7]\n",
        "mean_data = sum(data) / len(data)\n",
        "manual_variance = sum((x - mean_data) ** 2 for x in data) / len(data)  # population variance\n",
        "manual_std = manual_variance ** 0.5\n",
        "numpy_variance = np.var(data)\n",
        "numpy_std = np.std(data)\n",
        "print(\"Manual variance:\", manual_variance, \"std:\", manual_std)\n",
        "print(\"NumPy variance:\", numpy_variance, \"std:\", numpy_std)"
      ],
      "metadata": {
        "colab": {
          "base_uri": "https://localhost:8080/"
        },
        "id": "bkK6gPQiLBxy",
        "outputId": "459fbf4e-5a39-4003-a78f-2225744717c9"
      },
      "execution_count": 11,
      "outputs": [
        {
          "output_type": "stream",
          "name": "stdout",
          "text": [
            "Manual variance: 11.359375 std: 3.370367190678191\n",
            "NumPy variance: 11.359375 std: 3.370367190678191\n"
          ]
        }
      ]
    },
    {
      "cell_type": "code",
      "source": [
        "q25 = np.percentile(data, 25)\n",
        "q50 = np.percentile(data, 50)\n",
        "q75 = np.percentile(data, 75)\n",
        "iqr = q75 - q25\n",
        "print(\"25th percentile:\", q25)\n",
        "print(\"50th percentile:\", q50)\n",
        "print(\"75th percentile:\", q75)\n",
        "print(\"IQR:\", iqr)"
      ],
      "metadata": {
        "colab": {
          "base_uri": "https://localhost:8080/"
        },
        "id": "usfRnuV0Lj5w",
        "outputId": "65d2dd3a-639c-4a66-dfb6-6444cfdb37ff"
      },
      "execution_count": 12,
      "outputs": [
        {
          "output_type": "stream",
          "name": "stdout",
          "text": [
            "25th percentile: 6.5\n",
            "50th percentile: 7.0\n",
            "75th percentile: 9.25\n",
            "IQR: 2.75\n"
          ]
        }
      ]
    },
    {
      "cell_type": "code",
      "source": [
        "import numpy as np\n",
        "import random\n",
        "\n",
        "def zscore_manual(x):\n",
        "\n",
        "    x = np.asarray(x, dtype=float)\n",
        "    mu = x.mean()\n",
        "    sd = x.std()\n",
        "    return np.zeros_like(x) if sd == 0 else (x - mu) / sd\n",
        "\n",
        "example = [10, 12, 15, 20, 22]\n",
        "print(\"Z-score (manual):\", zscore_manual(example))\n"
      ],
      "metadata": {
        "colab": {
          "base_uri": "https://localhost:8080/"
        },
        "id": "K-TK9nQ4LniW",
        "outputId": "543d5f31-c905-40da-cc6e-b1dda07bebd1"
      },
      "execution_count": 13,
      "outputs": [
        {
          "output_type": "stream",
          "name": "stdout",
          "text": [
            "Z-score (manual): [-1.26687088 -0.83001885 -0.17474081  0.91738926  1.35424129]\n"
          ]
        }
      ]
    },
    {
      "cell_type": "code",
      "source": [
        "random.seed(42)\n",
        "arr = [random.randint(1, 100) for _ in range(20)]\n",
        "print(\"\\nOriginal list (20 ints):\", arr)\n",
        "\n",
        "w = 3\n",
        "mov_avg_manual = [sum(arr[i:i+w]) / w for i in range(len(arr) - w + 1)]\n",
        "print(\"Moving average (manual, w=3):\", mov_avg_manual)\n",
        "\n",
        "mov_avg_np = np.convolve(arr, np.ones(w)/w, mode='valid')\n",
        "print(\"Moving average (np.convolve): \", mov_avg_np.tolist())"
      ],
      "metadata": {
        "colab": {
          "base_uri": "https://localhost:8080/"
        },
        "id": "vqn7GLZQMSFf",
        "outputId": "a14dc4fb-893d-4c4d-d73a-062a4c1b0c7d"
      },
      "execution_count": 15,
      "outputs": [
        {
          "output_type": "stream",
          "name": "stdout",
          "text": [
            "\n",
            "Original list (20 ints): [82, 15, 4, 95, 36, 32, 29, 18, 95, 14, 87, 95, 70, 12, 76, 55, 5, 4, 12, 28]\n",
            "Moving average (manual, w=3): [33.666666666666664, 38.0, 45.0, 54.333333333333336, 32.333333333333336, 26.333333333333332, 47.333333333333336, 42.333333333333336, 65.33333333333333, 65.33333333333333, 84.0, 59.0, 52.666666666666664, 47.666666666666664, 45.333333333333336, 21.333333333333332, 7.0, 14.666666666666666]\n",
            "Moving average (np.convolve):  [33.666666666666664, 38.0, 45.0, 54.33333333333333, 32.33333333333333, 26.333333333333332, 47.33333333333333, 42.33333333333333, 65.33333333333333, 65.33333333333333, 84.0, 59.0, 52.666666666666664, 47.666666666666664, 45.33333333333333, 21.333333333333332, 7.0, 14.666666666666664]\n"
          ]
        }
      ]
    },
    {
      "cell_type": "code",
      "source": [
        "random.seed(7)\n",
        "base = random.sample(range(1, 51), 25)\n",
        "data = np.array(base + [300, 400], dtype=float)\n",
        "print(\"\\nData (27 vals):\", data.tolist())\n",
        "\n",
        "Q1, Q3 = np.percentile(data, [25, 75])\n",
        "IQR = Q3 - Q1\n",
        "lower = Q1 - 1.5 * IQR\n",
        "upper = Q3 + 1.5 * IQR\n",
        "\n",
        "outliers = data[(data < lower) | (data > upper)]\n",
        "print(f\"Q1={Q1:.2f}, Q3={Q3:.2f}, IQR={IQR:.2f}, lower={lower:.2f}, upper={upper:.2f}\")\n",
        "print(\"Outliers (IQR method):\", outliers.tolist())"
      ],
      "metadata": {
        "colab": {
          "base_uri": "https://localhost:8080/"
        },
        "id": "PA8gVGu0MVRl",
        "outputId": "a79a3572-aa3c-4059-b2e2-416fb826299e"
      },
      "execution_count": 14,
      "outputs": [
        {
          "output_type": "stream",
          "name": "stdout",
          "text": [
            "\n",
            "Data (27 vals): [21.0, 10.0, 26.0, 42.0, 4.0, 5.0, 35.0, 7.0, 24.0, 38.0, 46.0, 33.0, 14.0, 3.0, 6.0, 28.0, 27.0, 45.0, 16.0, 37.0, 18.0, 41.0, 2.0, 34.0, 19.0, 300.0, 400.0]\n",
            "Q1=12.00, Q3=37.50, IQR=25.50, lower=-26.25, upper=75.75\n",
            "Outliers (IQR method): [300.0, 400.0]\n"
          ]
        }
      ]
    }
  ]
}