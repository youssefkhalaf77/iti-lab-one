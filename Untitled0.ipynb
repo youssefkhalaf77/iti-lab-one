{
  "nbformat": 4,
  "nbformat_minor": 0,
  "metadata": {
    "colab": {
      "provenance": [],
      "authorship_tag": "ABX9TyME2e+ZE4kPmdtYUh9SlaHO",
      "include_colab_link": true
    },
    "kernelspec": {
      "name": "python3",
      "display_name": "Python 3"
    },
    "language_info": {
      "name": "python"
    }
  },
  "cells": [
    {
      "cell_type": "markdown",
      "metadata": {
        "id": "view-in-github",
        "colab_type": "text"
      },
      "source": [
        "<a href=\"https://colab.research.google.com/github/youssefkhalaf77/iti-lab-one/blob/main/Untitled0.ipynb\" target=\"_parent\"><img src=\"https://colab.research.google.com/assets/colab-badge.svg\" alt=\"Open In Colab\"/></a>"
      ]
    },
    {
      "cell_type": "code",
      "execution_count": 2,
      "metadata": {
        "colab": {
          "base_uri": "https://localhost:8080/"
        },
        "id": "yfXzQIy2otiA",
        "outputId": "e3fd5233-17de-4ce4-a66b-2512240dff5d"
      },
      "outputs": [
        {
          "output_type": "stream",
          "name": "stdout",
          "text": [
            "a) 7\n",
            "b) 2\n",
            "c) 17\n",
            "d) 27\n",
            "e) 1.6666666666666667\n",
            "f) 1\n",
            "g) 2\n"
          ]
        }
      ],
      "source": [
        "num1 = 3\n",
        "num2 = 4\n",
        "num3 = 5\n",
        "\n",
        "\n",
        "print(\"a)\", num1 + num2)\n",
        "\n",
        "print(\"b)\", num3 - num1)\n",
        "print(\"c)\", num1 * num2 + num3)\n",
        "\n",
        "print(\"d)\", num1 * (num2 + num3))\n",
        "\n",
        "print(\"e)\", num3 / num1)\n",
        "\n",
        "print(\"f)\", num3 // num1)\n",
        "\n",
        "print(\"g)\", num3 % num1)"
      ]
    },
    {
      "cell_type": "code",
      "source": [],
      "metadata": {
        "id": "iqu1dKypprpq"
      },
      "execution_count": null,
      "outputs": []
    },
    {
      "cell_type": "code",
      "source": [
        "x, y, z, g = 1, 2, 3, 4\n",
        "print(\"a)\", x + y * z / g)\n",
        "print(\"b)\", y ** z)"
      ],
      "metadata": {
        "colab": {
          "base_uri": "https://localhost:8080/"
        },
        "id": "zamIk8HUozCv",
        "outputId": "3bf50bac-fb86-4105-e17b-980965b986a2"
      },
      "execution_count": 4,
      "outputs": [
        {
          "output_type": "stream",
          "name": "stdout",
          "text": [
            "a) 2.5\n",
            "b) 8\n"
          ]
        }
      ]
    },
    {
      "cell_type": "code",
      "source": [
        "num1 = 3.0\n",
        "num2 = 4.0\n",
        "num3 = 5.0\n",
        "\n",
        "print(\"a)\", num1 + num2)\n",
        "print(\"b)\", num3 - num1)\n",
        "print(\"c)\", num1 * num2 + num3)\n",
        "print(\"d)\", num1 * (num2 + num3))\n",
        "print(\"e)\", num3 / num1)\n",
        "print(\"f)\", num3 // num1)\n",
        "print(\"g)\", num3 % num1)"
      ],
      "metadata": {
        "colab": {
          "base_uri": "https://localhost:8080/"
        },
        "id": "ooSm8FoEpiXJ",
        "outputId": "f16fefa3-5672-4828-e31b-20596d07da7d"
      },
      "execution_count": 3,
      "outputs": [
        {
          "output_type": "stream",
          "name": "stdout",
          "text": [
            "\n",
            "--- Float Numbers ---\n",
            "a) 7.0\n",
            "b) 2.0\n",
            "c) 17.0\n",
            "d) 27.0\n",
            "e) 1.6666666666666667\n",
            "f) 1.0\n",
            "g) 2.0\n"
          ]
        }
      ]
    },
    {
      "cell_type": "code",
      "source": [
        "str_a = \"Python\"\n",
        "str_b = \" is a \"\n",
        "str_c = \"times fun language\"\n",
        "num = 1000\n",
        "\n",
        "\n",
        "str_ab = str_a + str_b + str_c\n",
        "print(\"a)\", str_ab)\n",
        "\n",
        "str_al = str_a * 10\n",
        "print(\"b)\", str_al)"
      ],
      "metadata": {
        "colab": {
          "base_uri": "https://localhost:8080/"
        },
        "id": "LNVNySuoqPWJ",
        "outputId": "107e51e8-1b87-48b6-9eed-d33381088ad8"
      },
      "execution_count": 5,
      "outputs": [
        {
          "output_type": "stream",
          "name": "stdout",
          "text": [
            "a) Python is a times fun language\n",
            "b) PythonPythonPythonPythonPythonPythonPythonPythonPythonPython\n"
          ]
        }
      ]
    },
    {
      "cell_type": "code",
      "source": [
        "num = int(input(\"Enter a number: \"))\n",
        "if num % 2 == 0:\n",
        "    print(\"Even\")\n",
        "else:\n",
        "    print(\"Odd\")"
      ],
      "metadata": {
        "colab": {
          "base_uri": "https://localhost:8080/"
        },
        "id": "HGyUwMAfrE0j",
        "outputId": "b460424c-b9de-49f3-b70f-f91749252d6c"
      },
      "execution_count": 6,
      "outputs": [
        {
          "output_type": "stream",
          "name": "stdout",
          "text": [
            "Enter a number: 5\n",
            "Odd\n"
          ]
        }
      ]
    },
    {
      "cell_type": "code",
      "source": [
        "score = int(input(\"Enter your score (0-100): \"))\n",
        "if score >= 50:\n",
        "    print(\"Pass\")\n",
        "else:\n",
        "    print(\"Fail\")"
      ],
      "metadata": {
        "colab": {
          "base_uri": "https://localhost:8080/"
        },
        "id": "Vxhz0RCjrWky",
        "outputId": "1f616480-38d1-413f-ca65-92e8bf2ec1f9"
      },
      "execution_count": 7,
      "outputs": [
        {
          "output_type": "stream",
          "name": "stdout",
          "text": [
            "Enter your score (0-100): 40\n",
            "Fail\n"
          ]
        }
      ]
    },
    {
      "cell_type": "code",
      "source": [
        "a = float(input(\"Enter first number: \"))\n",
        "b = float(input(\"Enter second number: \"))\n",
        "c = float(input(\"Enter third number: \"))\n",
        "largest = max(a, b, c)\n",
        "print(\"Largest number is:\", largest)\n"
      ],
      "metadata": {
        "colab": {
          "base_uri": "https://localhost:8080/"
        },
        "id": "Utp2Ag8mrlhi",
        "outputId": "fbd4c22a-2d14-4559-92b9-942905daba0d"
      },
      "execution_count": 8,
      "outputs": [
        {
          "output_type": "stream",
          "name": "stdout",
          "text": [
            "Enter first number: 2\n",
            "Enter second number: 5\n",
            "Enter third number: 0\n",
            "Largest number is: 5.0\n"
          ]
        }
      ]
    },
    {
      "cell_type": "code",
      "source": [
        "for i in range(0, 11):\n",
        "    print(i, end=\" \")\n",
        "print()"
      ],
      "metadata": {
        "colab": {
          "base_uri": "https://localhost:8080/"
        },
        "id": "8_YffZV3rqV_",
        "outputId": "3a9bd437-a36f-456f-b6a4-66c9965e8fde"
      },
      "execution_count": 10,
      "outputs": [
        {
          "output_type": "stream",
          "name": "stdout",
          "text": [
            "0 1 2 3 4 5 6 7 8 9 10 \n"
          ]
        }
      ]
    },
    {
      "cell_type": "code",
      "source": [
        "score = int(input(\"Enter your score: \"))\n",
        "if 90 <= score <= 100:\n",
        "    grade = \"A\"\n",
        "elif 80 <= score <= 89:\n",
        "    grade = \"B\"\n",
        "elif 70 <= score <= 79:\n",
        "    grade = \"C\"\n",
        "elif 60 <= score <= 69:\n",
        "    grade = \"D\"\n",
        "else:\n",
        "    grade = \"F\"\n",
        "print(\"Your grade is:\", grade)"
      ],
      "metadata": {
        "colab": {
          "base_uri": "https://localhost:8080/"
        },
        "id": "jIzEjIo0r4tM",
        "outputId": "46c54729-193c-436c-d4a9-2bf6c8d70571"
      },
      "execution_count": 11,
      "outputs": [
        {
          "output_type": "stream",
          "name": "stdout",
          "text": [
            "Enter your score: 88\n",
            "Your grade is: B\n"
          ]
        }
      ]
    },
    {
      "cell_type": "code",
      "source": [
        "num = int(input(\"Enter a number for multiplication table: \"))\n",
        "for i in range(1, 11):\n",
        "    print(f\"{num} x {i} = {num*i}\")"
      ],
      "metadata": {
        "colab": {
          "base_uri": "https://localhost:8080/"
        },
        "id": "ILZ-1_81sSA8",
        "outputId": "eb5a4d5b-c816-4948-d7e4-90a5e79c1e28"
      },
      "execution_count": 13,
      "outputs": [
        {
          "output_type": "stream",
          "name": "stdout",
          "text": [
            "Enter a number for multiplication table: 5\n",
            "5 x 1 = 5\n",
            "5 x 2 = 10\n",
            "5 x 3 = 15\n",
            "5 x 4 = 20\n",
            "5 x 5 = 25\n",
            "5 x 6 = 30\n",
            "5 x 7 = 35\n",
            "5 x 8 = 40\n",
            "5 x 9 = 45\n",
            "5 x 10 = 50\n"
          ]
        }
      ]
    },
    {
      "cell_type": "code",
      "source": [
        "sum_even = 0\n",
        "for i in range(1, 51):\n",
        "    if i % 2 == 0:\n",
        "        sum_even += i\n",
        "print(\"Sum of even numbers between 1 and 50:\", sum_even)"
      ],
      "metadata": {
        "colab": {
          "base_uri": "https://localhost:8080/"
        },
        "id": "T-oK0k2gwDDd",
        "outputId": "c4e92f2e-e50d-474f-99fd-85b552fe4442"
      },
      "execution_count": 23,
      "outputs": [
        {
          "output_type": "stream",
          "name": "stdout",
          "text": [
            "Sum of even numbers between 1 and 50: 650\n"
          ]
        }
      ]
    },
    {
      "cell_type": "code",
      "source": [
        "n = int(input(\"Enter a number to find factorial: \"))\n",
        "factorial = 1\n",
        "count = 1\n",
        "while count <= n:\n",
        "    factorial *= count\n",
        "    count += 1\n",
        "print(\"Factorial:\", factorial)"
      ],
      "metadata": {
        "colab": {
          "base_uri": "https://localhost:8080/"
        },
        "id": "G0HKXgejwUhs",
        "outputId": "9b34f45c-924d-4655-f17f-e6bf3a741440"
      },
      "execution_count": 24,
      "outputs": [
        {
          "output_type": "stream",
          "name": "stdout",
          "text": [
            "Enter a number to find factorial: 8\n",
            "Factorial: 40320\n"
          ]
        }
      ]
    }
  ]
}